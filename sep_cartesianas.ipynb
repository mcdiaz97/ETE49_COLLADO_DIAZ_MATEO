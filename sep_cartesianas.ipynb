{
 "cells": [
  {
   "cell_type": "code",
   "execution_count": null,
   "metadata": {},
   "outputs": [],
   "source": [
    "import numpy as np\n",
    "import matplotlib.pyplot as plt\n",
    "# Parametros\n",
    "L = 0.35 # Lado del pandeiro\n",
    "T=911 # Tension del parche del pandeiro\n",
    "sigma=0.412 # Densidad superficial del material del parche\n",
    "c = np.sqrt(T/sigma)  # Velocidad del sonido en la membrana\n",
    "\n",
    "\n",
    "def sep_cuad(L:float,m:int,n:int):\n",
    "    f=np.zeros((m,n))\n",
    "    frel=np.zeros((m,n))\n",
    "    for a in range(m):\n",
    "        for b in range(n):\n",
    "            f[a,b]=(c/(2*L))*np.sqrt((a+1)**2+(b+1)**2)  \n",
    "            frel[a,b]=f[a,b]/f[0,0]\n",
    "            while frel[a,b]>2:\n",
    "                frel[a,b]*=0.5\n",
    "    return f, frel\n",
    "\n",
    "fund,fundrel=sep_cuad(L,3,5)\n",
    "print(fund)\n",
    "print(fundrel)"
   ]
  }
 ],
 "metadata": {
  "language_info": {
   "name": "python"
  }
 },
 "nbformat": 4,
 "nbformat_minor": 2
}
