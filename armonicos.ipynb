{
 "cells": [
  {
   "cell_type": "code",
   "execution_count": null,
   "metadata": {},
   "outputs": [],
   "source": [
    "import numpy as np\n",
    "from scipy.special import jn, jn_zeros  \n",
    "fund=440\n",
    "def armonicos_proporcionales():\n",
    "    intervalos_agudos=[]\n",
    "    intervalos_graves=[]\n",
    "    exp_quinta=[7,2,9,4,11,6,1,8,3,10,5]\n",
    "    exp_octava=[4,1,5,2,6,3,0,4,1,5,2]\n",
    "    for i in range(11):\n",
    "        intervalos_agudos.append(1.5**exp_quinta[i] /(2**exp_octava[i]))\n",
    "        intervalos_graves.append(2**(exp_octava[-1-i]+1) / (1.5**exp_quinta[-1-i]))\n",
    "    intervalos_agudos.append(2)\n",
    "    intervalos_graves.append(2)\n",
    "    return intervalos_agudos,intervalos_graves\n",
    "\n",
    "def armonicos_equi():\n",
    "    intervalos=[]\n",
    "    for i in range(12):\n",
    "        intervalos.append(2**((i+1)/12))\n",
    "    return intervalos\n",
    "\n",
    "ag,gr=armonicos_proporcionales()\n",
    "print(ag)\n",
    "print(gr)\n",
    "equi=armonicos_equi()\n",
    "print(equi)\n",
    "\n",
    "j=jn_zeros(0,1)\n",
    "jz=np.zeros((3,5))\n",
    "for n in range(3):\n",
    "    for m in range(5):\n",
    "        jz[n,m]=float(jn_zeros(m,n+1)[n]/j[0])\n",
    "        while jz[n,m]>2:\n",
    "            jz[n,m]*=0.5\n",
    "print(jz)"
   ]
  }
 ],
 "metadata": {
  "language_info": {
   "name": "python"
  }
 },
 "nbformat": 4,
 "nbformat_minor": 2
}
