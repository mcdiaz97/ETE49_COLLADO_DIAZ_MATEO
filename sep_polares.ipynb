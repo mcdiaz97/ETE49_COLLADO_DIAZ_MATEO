{
 "cells": [
  {
   "cell_type": "code",
   "execution_count": null,
   "metadata": {},
   "outputs": [],
   "source": [
    "import numpy as np\n",
    "from scipy.special import jn, jn_zeros  \n",
    "\n",
    "r_1= 0.175  \n",
    "r_2 = np.sqrt(2*0.35**2)/2  # Radios de los tambores circulares\n",
    "T=911\n",
    "sigma=0.412\n",
    "c=np.sqrt(T/sigma) # Velocidad del sonido\n",
    "def sep_circ(r,m,n):\n",
    "    f=np.zeros((n,m))\n",
    "    frel=np.zeros((n,m))\n",
    "    for b in range(n):\n",
    "        for a in range(m):\n",
    "            f[b,a]=c/(2*np.pi*r)*(jn_zeros(a,b+1)[b])\n",
    "            frel[b,a]=f[b,a]/f[0,0]\n",
    "            while frel[b,a]>2:\n",
    "                frel[b,a]*=0.5\n",
    "    return f,frel\n",
    "\n",
    "fund1,fundrel1=sep_circ(r_1,5,3)\n",
    "print(fund1)\n",
    "print(fundrel1)\n",
    "fund2,fundrel2=sep_circ(r_2,5,3)\n",
    "print(fund2)\n"
   ]
  }
 ],
 "metadata": {
  "language_info": {
   "name": "python"
  }
 },
 "nbformat": 4,
 "nbformat_minor": 2
}
