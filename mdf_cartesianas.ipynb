{
 "cells": [
  {
   "cell_type": "code",
   "execution_count": null,
   "metadata": {},
   "outputs": [],
   "source": [
    "import numpy as np\n",
    "import matplotlib.pyplot as plt  \n",
    "\n",
    "L=0.35 # Lado del pandeiro\n",
    "T=911 # Tensión del parche del pandeiro\n",
    "sigma=0.412 # Densidad superficial del material del parche\n",
    "c = np.sqrt(T/sigma)  # Velocidad del sonido en la membrana\n",
    "\n",
    "\n",
    "def mdf_cart():\n",
    "    dx = 0.01  # Delta x , Delta y\n",
    "    nx=int(L/dx)\n",
    "    dt = 0.0001  # Delta t\n",
    "    t = 0.5  # Tiempo total\n",
    "    nt = int(t / dt) # Número de pasos temporales\n",
    "    u = np.zeros((nx + 1, nx+1, 3))  # 3 arrays de (x, y, t), para n-1, n y n+1\n",
    "    u[nx//2, nx//2, 1] = 10\n",
    "    for n in range(1, nt):\n",
    "        for i in range(1, nx):\n",
    "            for j in range(1, nx):\n",
    "                u[i,j,2]=2*u[i,j,1]-u[i,j,0]+(c*dt/dx)**2 *(u[i+1,j,1]+u[i-1,j,1]+u[i,j+1,1]+u[i,j-1,1]-4*u[i,j,1])\n",
    "\n",
    "        # Condiciones de contorno u(x,y=0,L)=0\n",
    "        u[0,:,2]=u[-1,:,2]=u[:,0,2]=u[:,-1,2]=0\n",
    "\n",
    "        # Salto temporal, u(n+1) pasa a ser u(n) y u(n) pasa a ser u(n-1)\n",
    "        u[:, :,0]=u[:,:,1]\n",
    "        u[:,:,1]=u[:,:,2]\n",
    "    return u[:,:,1]\n",
    "\n",
    "mdf = mdf_cart()\n",
    "plt.figure(figsize=(8, 6))\n",
    "plt.imshow(mdf, extent=[0, L, 0, L], origin='lower', cmap='rainbow')\n",
    "plt.colorbar()\n",
    "plt.title('Pandeiro cuadrado: Método de diferencias finitas')\n",
    "plt.xlabel('x (m)')\n",
    "plt.ylabel('y (m)')\n",
    "plt.show()"
   ]
  }
 ],
 "metadata": {
  "language_info": {
   "name": "python"
  }
 },
 "nbformat": 4,
 "nbformat_minor": 2
}
